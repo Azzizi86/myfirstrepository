{
 "cells": [
  {
   "cell_type": "markdown",
   "id": "c796b466-8e4f-46c9-8535-17e98fc36a3f",
   "metadata": {},
   "source": [
    "# DATA SCIENCE TOOLS AND ECOSYSTEM"
   ]
  },
  {
   "cell_type": "markdown",
   "id": "c42a3017-41f4-4ab8-a51e-c11107308752",
   "metadata": {},
   "source": [
    "## In this notebook, Data Science Tools and Ecosystem are summarized."
   ]
  },
  {
   "cell_type": "markdown",
   "id": "e83f6d43-d3a2-4a16-af7c-8a6896451f6b",
   "metadata": {
    "jp-MarkdownHeadingCollapsed": true
   },
   "source": [
    "##### Objectives:\n",
    "- unordered lists\n",
    "- list popular\n",
    "- famous tools for data science\n"
   ]
  },
  {
   "cell_type": "markdown",
   "id": "d3aabd84-58e6-43f1-93b1-28ce7f61630b",
   "metadata": {},
   "source": [
    "#### Some of the popular languages that Data Scientists use are:"
   ]
  },
  {
   "cell_type": "markdown",
   "id": "b5b06f72-9619-48c4-80e6-5cf7a6e84809",
   "metadata": {},
   "source": [
    "- PYTHON\n",
    "- R\n",
    "- SCALA\n",
    "- JULIA"
   ]
  },
  {
   "cell_type": "markdown",
   "id": "eefa043c-d32d-432c-9b5d-ac1cebb49710",
   "metadata": {},
   "source": [
    " #### Some of the commonly used libraries used by Data Scientists include:"
   ]
  },
  {
   "cell_type": "markdown",
   "id": "1dba54fc-0026-4908-8ed5-999cc98738c9",
   "metadata": {},
   "source": [
    "- PANDAS\n",
    "- TENSORFLOW\n",
    "- CARET\n",
    "- NUMPY"
   ]
  },
  {
   "cell_type": "markdown",
   "id": "cca10095-0c48-47f1-874f-59ecf207a2e0",
   "metadata": {},
   "source": [
    "#### Data Science Tools"
   ]
  },
  {
   "cell_type": "markdown",
   "id": "55f7ac9e-8491-4253-b676-60d535a9c0c3",
   "metadata": {},
   "source": [
    "| DATA SCIENCE TOOLS |\n",
    "|--------------------|\n",
    "| VISUAL CODE        |\n",
    "| SPYDER             |\n",
    "| JUPYTER LAB        |"
   ]
  },
  {
   "cell_type": "markdown",
   "id": "29ec10a2-dc57-42ae-b3ba-a86a34acf677",
   "metadata": {},
   "source": [
    "### Below are a few examples of evaluating arithmetic expressions in Python"
   ]
  },
  {
   "cell_type": "code",
   "execution_count": 5,
   "id": "46af9ef4-2f77-4c4e-8000-ece5dc250cd6",
   "metadata": {},
   "outputs": [
    {
     "data": {
      "text/plain": [
       "7"
      ]
     },
     "execution_count": 5,
     "metadata": {},
     "output_type": "execute_result"
    }
   ],
   "source": [
    "3*4-5"
   ]
  },
  {
   "cell_type": "code",
   "execution_count": 6,
   "id": "94b8660a-ba43-4efc-be4e-03a81fbc2a35",
   "metadata": {},
   "outputs": [
    {
     "data": {
      "text/plain": [
       "80"
      ]
     },
     "execution_count": 6,
     "metadata": {},
     "output_type": "execute_result"
    }
   ],
   "source": [
    "5*4*2*5-120\n"
   ]
  },
  {
   "cell_type": "markdown",
   "id": "a5272a69-f715-4ad5-9830-274389452cef",
   "metadata": {},
   "source": [
    "convert minutes to hours"
   ]
  },
  {
   "cell_type": "code",
   "execution_count": 15,
   "id": "3479747c-7e1b-4401-84df-17d6a042e4fd",
   "metadata": {},
   "outputs": [
    {
     "name": "stdout",
     "output_type": "stream",
     "text": [
      "3 hours and 20 minutes\n"
     ]
    }
   ],
   "source": [
    "# This will convert 200 minutes to hours by diving by 60\n",
    "minutes = 200\n",
    "hour = 60\n",
    "hours = 200 // 60 \n",
    "minutes_remaining = minutes% hour\n",
    "print(f\"{hours} hours and {minutes_remaining} minutes\")"
   ]
  },
  {
   "cell_type": "markdown",
   "id": "f21ffd34-d313-47e1-9f0a-178dbedd7aff",
   "metadata": {},
   "source": [
    "## Auther Name - Asif Hasan"
   ]
  },
  {
   "cell_type": "code",
   "execution_count": null,
   "id": "7a359de7-2dae-4ead-a5c9-980c22666525",
   "metadata": {},
   "outputs": [],
   "source": []
  }
 ],
 "metadata": {
  "kernelspec": {
   "display_name": "Python 3 (ipykernel)",
   "language": "python",
   "name": "python3"
  },
  "language_info": {
   "codemirror_mode": {
    "name": "ipython",
    "version": 3
   },
   "file_extension": ".py",
   "mimetype": "text/x-python",
   "name": "python",
   "nbconvert_exporter": "python",
   "pygments_lexer": "ipython3",
   "version": "3.12.8"
  }
 },
 "nbformat": 4,
 "nbformat_minor": 5
}
